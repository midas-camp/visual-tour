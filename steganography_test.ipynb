{
 "cells": [
  {
   "cell_type": "code",
   "execution_count": null,
   "metadata": {
    "collapsed": false
   },
   "outputs": [
    {
     "name": "stdout",
     "output_type": "stream",
     "text": [
      "whats the message? howdy friendo\n"
     ]
    }
   ],
   "source": [
    "from PIL import Image\n",
    "\n",
    "import urllib.request\n",
    "import io\n",
    "\n",
    "\n",
    "import random\n",
    "mess = input('whats the message? ')\n",
    "\n",
    "def bit_generator(mess):\n",
    "    for ch in mess:\n",
    "        ascii = ord(ch)\n",
    "        ct = 0\n",
    "        while ct < 7:\n",
    "            yield ascii & 1\n",
    "            ascii = ascii >> 1\n",
    "            ct += 1\n",
    "    for i in range(7):\n",
    "        yield 0\n",
    "    while True:\n",
    "        yield random.randrange(1)\n",
    "\n",
    "bitstream = bit_generator(mess)\n",
    "\n",
    "def setbit(oldbyte,newbit):\n",
    "    if newbit:\n",
    "        return oldbyte | newbit\n",
    "    else:\n",
    "        return oldbyte & 0b11111110\n",
    "    \n",
    "def getbit(oldbyte):\n",
    "    return oldbyte & 0b00000001\n",
    "\n",
    "def frombits(bits):\n",
    "    chars = []\n",
    "    charsize = 7;\n",
    "    for b in range(len(bits) // charsize):\n",
    "        byte = list(reversed(bits[b*charsize:(b+1)*charsize]))\n",
    "        \n",
    "        if sum(byte) > 0:\n",
    "            print(byte)\n",
    "            chars.append(chr(int(''.join([str(bit) for bit in byte]), 2)))\n",
    "            \n",
    "    return ''.join(chars)\n",
    "\n",
    "URL = \"http://vignette2.wikia.nocookie.net/pokemon/images/b/b1/025Pikachu_XY_anime_3.png\"\n",
    "file = io.BytesIO(urllib.request.urlopen(URL).read())\n",
    "img = Image.open(file)\n",
    "sz = img.size\n",
    "new_img = Image.new(\"RGB\", sz, \"white\")\n",
    "\n",
    "#for row in range(10):\n",
    "#    for col in range(10):\n",
    "\n",
    "for row in range(sz[1]):\n",
    "    for col in range(sz[0]):\n",
    "        \n",
    "        pix = img.getpixel((col,row))\n",
    "        red_pix = pix[0]\n",
    "        green_pix = pix[1]\n",
    "        blue_pix = pix[2]\n",
    "        \n",
    "        bit = next(bitstream)\n",
    "        red_pix = setbit(red_pix,bit)\n",
    "        \n",
    "        bit = next(bitstream)\n",
    "        green_pix = setbit(green_pix,bit)\n",
    "        \n",
    "        bit = next(bitstream)\n",
    "        blue_pix = setbit(blue_pix,bit)\n",
    "\n",
    "        new_pix = (red_pix,green_pix,blue_pix,0)\n",
    "\n",
    "        new_img.putpixel((col,row),new_pix)\n",
    "\n",
    "#new_img.show()\n",
    "\n",
    "bits = [];\n",
    "#for row in range(10):\n",
    "#    for col in range(10):\n",
    "\n",
    "for row in range(sz[1]):\n",
    "    for col in range(sz[0]):\n",
    "        pix = new_img.getpixel((col,row))\n",
    "        red_pix = pix[0]\n",
    "        green_pix = pix[1]\n",
    "        blue_pix = pix[2]\n",
    "        \n",
    "        bits.append(getbit(red_pix))\n",
    "        bits.append(getbit(green_pix))\n",
    "        bits.append(getbit(blue_pix))\n",
    "            \n",
    "        \n",
    "print(len(bits))\n",
    "print(frombits(bits))\n",
    "\n",
    "\n"
   ]
  },
  {
   "cell_type": "code",
   "execution_count": 53,
   "metadata": {
    "collapsed": false
   },
   "outputs": [
    {
     "data": {
      "text/plain": [
       "0"
      ]
     },
     "execution_count": 53,
     "metadata": {},
     "output_type": "execute_result"
    }
   ],
   "source": [
    "getbit(16)"
   ]
  },
  {
   "cell_type": "code",
   "execution_count": 44,
   "metadata": {
    "collapsed": false
   },
   "outputs": [
    {
     "name": "stdout",
     "output_type": "stream",
     "text": [
      "72\n",
      "0\n",
      "0\n",
      "0\n",
      "1\n",
      "0\n",
      "0\n",
      "1\n"
     ]
    }
   ],
   "source": [
    "x = ord('H')\n",
    "print(x)\n",
    "\n",
    "while x > 0:\n",
    "    print(x & 1)\n",
    "    x = x >> 1"
   ]
  },
  {
   "cell_type": "code",
   "execution_count": null,
   "metadata": {
    "collapsed": true
   },
   "outputs": [],
   "source": []
  }
 ],
 "metadata": {
  "kernelspec": {
   "display_name": "Python 3",
   "language": "python",
   "name": "python3"
  },
  "language_info": {
   "codemirror_mode": {
    "name": "ipython",
    "version": 3
   },
   "file_extension": ".py",
   "mimetype": "text/x-python",
   "name": "python",
   "nbconvert_exporter": "python",
   "pygments_lexer": "ipython3",
   "version": "3.5.1"
  }
 },
 "nbformat": 4,
 "nbformat_minor": 0
}
